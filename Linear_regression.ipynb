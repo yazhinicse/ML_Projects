{
 "cells": [
  {
   "cell_type": "code",
   "execution_count": 5,
   "id": "2b5bd892",
   "metadata": {},
   "outputs": [],
   "source": [
    "#importing libraries\n",
    "import csv\n",
    "import random\n",
    "import math\n",
    "import numpy as np\n"
   ]
  },
  {
   "cell_type": "code",
   "execution_count": 6,
   "id": "eeca40e1",
   "metadata": {},
   "outputs": [
    {
     "name": "stdout",
     "output_type": "stream",
     "text": [
      "HEADERS\n",
      "['X1:Price per week', 'X2:Population of city', 'X3:Monthly income of riders', 'X4:Average parking rates per month', 'Y:Number of weekly riders']\n"
     ]
    }
   ],
   "source": [
    "#loading dataset\n",
    "def loadDataset(filename):\n",
    "    with open(filename, 'r') as csvfile:\n",
    "        lines = csv.reader(csvfile)\n",
    "        dataset = list(lines)\n",
    "        headers = dataset[0]\n",
    "        dataset = dataset[1: len(dataset)]\n",
    "        return dataset, headers\n",
    "dataset, headers = loadDataset(r'E:\\Mtech\\Sem 1\\21DS602-ML\\Assignments\\Presentation 2\\Data-linear-regression.csv')\n",
    "print(\"HEADERS\")\n",
    "print(headers)"
   ]
  },
  {
   "cell_type": "code",
   "execution_count": 7,
   "id": "5ffde29e",
   "metadata": {},
   "outputs": [
    {
     "name": "stdout",
     "output_type": "stream",
     "text": [
      "Dataset Size\n",
      "27 X 5\n"
     ]
    }
   ],
   "source": [
    "# Size of dataset\n",
    "print(\"Dataset Size\")\n",
    "print(len(dataset), \"X\", len(dataset[0]))"
   ]
  },
  {
   "cell_type": "code",
   "execution_count": 8,
   "id": "f8a83a20",
   "metadata": {},
   "outputs": [
    {
     "name": "stdout",
     "output_type": "stream",
     "text": [
      "Size of X\n",
      "(27, 4)\n",
      "Size of Y\n",
      "(27,)\n"
     ]
    }
   ],
   "source": [
    "#Splitting dataset to features and target \n",
    "dataset = np.array(dataset)\n",
    "dataset = dataset.astype(float)\n",
    "X = dataset[:, 0:-1]\n",
    "Y = dataset[:, -1]\n",
    "print(\"Size of X\")\n",
    "print(X.shape)\n",
    "print(\"Size of Y\")\n",
    "print(Y.shape)"
   ]
  },
  {
   "cell_type": "code",
   "execution_count": 9,
   "id": "01440376",
   "metadata": {},
   "outputs": [
    {
     "name": "stdout",
     "output_type": "stream",
     "text": [
      "(27, 5)\n",
      "(27, 1)\n"
     ]
    }
   ],
   "source": [
    "#adding ones to X\n",
    "one = np.ones((len(X),1))\n",
    "X = np.append(one, X, axis=1)\n",
    "#reshape Y to a column vector\n",
    "Y = np.array(Y).reshape((len(Y),1))\n",
    "print(X.shape)\n",
    "print(Y.shape)"
   ]
  },
  {
   "cell_type": "code",
   "execution_count": 11,
   "id": "27400d56",
   "metadata": {},
   "outputs": [],
   "source": [
    "#randomly assigning split% rows to training set and rest to test set\n",
    "def train_test_split(X, Y, split):\n",
    "\n",
    "    indices = np.array(range(len(X)))\n",
    "    \n",
    "    train_size = round(split * len(X))\n",
    "\n",
    "    random.shuffle(indices)\n",
    "\n",
    "    train_indices = indices[0:train_size]\n",
    "    test_indices = indices[train_size:len(X)]\n",
    "\n",
    "    X_train = X[train_indices, :]\n",
    "    X_test = X[test_indices, :]\n",
    "    Y_train = Y[train_indices, :]\n",
    "    Y_test = Y[test_indices, :]\n",
    "    \n",
    "    return X_train,Y_train, X_test, Y_test\n",
    "split = 0.8\n",
    "X_train, Y_train, X_test, Y_test = train_test_split(X, Y, split)"
   ]
  },
  {
   "cell_type": "code",
   "execution_count": 12,
   "id": "6e94bcdc",
   "metadata": {},
   "outputs": [
    {
     "name": "stdout",
     "output_type": "stream",
     "text": [
      "TRAINING SET\n",
      "X_train.shape:  (22, 5)\n",
      "Y_train.shape:  (22, 1)\n",
      "TESTING SET\n",
      "X_test.shape:  (5, 5)\n",
      "Y_test.shape:  (5, 1)\n"
     ]
    }
   ],
   "source": [
    "#size of test and train data\n",
    "print (\"TRAINING SET\")\n",
    "print(\"X_train.shape: \", X_train.shape)\n",
    "print(\"Y_train.shape: \", Y_train.shape)\n",
    "\n",
    "print(\"TESTING SET\")\n",
    "print(\"X_test.shape: \", X_test.shape)\n",
    "print(\"Y_test.shape: \", Y_test.shape)"
   ]
  },
  {
   "cell_type": "code",
   "execution_count": 14,
   "id": "3f2aae6f",
   "metadata": {},
   "outputs": [
    {
     "name": "stdout",
     "output_type": "stream",
     "text": [
      "(5, 1)\n",
      "[[ 7.94606562e+04]\n",
      " [-6.80482350e+02]\n",
      " [ 6.68145422e-02]\n",
      " [-1.64069904e+00]\n",
      " [ 1.86437979e+02]]\n"
     ]
    }
   ],
   "source": [
    "#find the value of alpha and start predicting with our calculated alpha.\n",
    "def normal_equation(X, Y):\n",
    "    Alpha = np.dot((np.linalg.inv(np.dot(X.T,X))), np.dot(X.T,Y))\n",
    "\n",
    "    return Alpha\n",
    "def predict(X_test, Alpha):\n",
    "    return np.dot(X_test, Alpha)\n",
    "Alpha = normal_equation(X_train, Y_train)\n",
    "predictions = predict(X_test, Alpha)\n",
    "\n",
    "print(predictions.shape)\n",
    "print(Alpha)\n"
   ]
  },
  {
   "cell_type": "code",
   "execution_count": 15,
   "id": "13e3fb74",
   "metadata": {},
   "outputs": [
    {
     "name": "stdout",
     "output_type": "stream",
     "text": [
      "Mean Absolute Error:  6677.987560262511\n",
      "Root Mean Square Error:  8007.112628619113\n",
      "R square:  0.8055544589206596\n"
     ]
    }
   ],
   "source": [
    "#Checking accuracy\n",
    "def metrics(predictions, Y_test):\n",
    "\n",
    "    #calculating mean absolute error\n",
    "    MAE = np.mean(np.abs(predictions-Y_test))\n",
    "\n",
    "    #calculating root mean square error\n",
    "    MSE = np.square(np.subtract(Y_test,predictions)).mean() \n",
    "    RMSE = math.sqrt(MSE)\n",
    "\n",
    "    #calculating r_square\n",
    "    rss = np.sum(np.square((Y_test- predictions)))\n",
    "    mean = np.mean(Y_test)\n",
    "    sst = np.sum(np.square(Y_test-mean))\n",
    "    r_square =1 - (rss/sst)\n",
    "    \n",
    "\n",
    "    return MAE, RMSE, r_square\n",
    "\n",
    "mae, rmse, r_square = metrics(predictions, Y_test)\n",
    "print(\"Mean Absolute Error: \", mae)\n",
    "print(\"Root Mean Square Error: \", rmse)\n",
    "print(\"R square: \", r_square)"
   ]
  },
  {
   "cell_type": "code",
   "execution_count": null,
   "id": "fc93a148",
   "metadata": {},
   "outputs": [],
   "source": []
  }
 ],
 "metadata": {
  "kernelspec": {
   "display_name": "Python 3",
   "language": "python",
   "name": "python3"
  },
  "language_info": {
   "codemirror_mode": {
    "name": "ipython",
    "version": 3
   },
   "file_extension": ".py",
   "mimetype": "text/x-python",
   "name": "python",
   "nbconvert_exporter": "python",
   "pygments_lexer": "ipython3",
   "version": "3.8.8"
  }
 },
 "nbformat": 4,
 "nbformat_minor": 5
}
