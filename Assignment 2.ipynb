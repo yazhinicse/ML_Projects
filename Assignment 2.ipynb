{
 "cells": [
  {
   "cell_type": "markdown",
   "metadata": {
    "id": "CeC_IaqrQ8V_"
   },
   "source": [
    "\n",
    "\n",
    "\n",
    "1.For the MNIST dataset, apply the feature reduction using singular value decomposition"
   ]
  },
  {
   "cell_type": "code",
   "execution_count": 10,
   "metadata": {
    "id": "jejSHLAWtkD_"
   },
   "outputs": [],
   "source": [
    "from sklearn.datasets import fetch_openml\n",
    "from sklearn.decomposition import TruncatedSVD\n",
    "import matplotlib.pyplot as plt\n",
    "import pandas as pd "
   ]
  },
  {
   "cell_type": "code",
   "execution_count": 14,
   "metadata": {
    "colab": {
     "base_uri": "https://localhost:8080/",
     "height": 274
    },
    "id": "5-b5MwI2tzHH",
    "outputId": "16c47ee3-7a3e-4c04-9a5d-1b1646bb4aef"
   },
   "outputs": [
    {
     "data": {
      "image/png": "[encoded data removed]",
      "text/plain": [
       "<Figure size 288x288 with 1 Axes>"
      ]
     },
     "metadata": {
      "needs_background": "light"
     },
     "output_type": "display_data"
    }
   ],
   "source": [
    "mnist = fetch_openml('mnist_784')\n",
    "digits_df = mnist\n",
    "X = digits_df.data\n",
    "y = digits_df.target\n",
    "svd = TruncatedSVD(n_components=10)\n",
    "X_svd = svd.fit_transform(X)\n",
    "\n",
    "image = svd.inverse_transform(X_svd[0].reshape(1, -1))\n",
    "plt.matshow(image.reshape((28, 28)), cmap = \"gray\")\n",
    "plt.show()"
   ]
  },
  {
   "cell_type": "markdown",
   "metadata": {
    "id": "CWGKPQL3uKTl"
   },
   "source": [
    "2.Classify the dataset using logistic regression before applying the feature reduction"
   ]
  },
  {
   "cell_type": "code",
   "execution_count": 15,
   "metadata": {
    "id": "9yeoeETEoGrJ"
   },
   "outputs": [],
   "source": [
    "import pandas as pd\n",
    "import numpy as np\n",
    "import matplotlib.pyplot as plt\n",
    "from sklearn import model_selection\n",
    "from sklearn import linear_model\n",
    "from sklearn import metrics\n",
    "from sklearn.datasets import fetch_openml\n",
    "mnist = fetch_openml('mnist_784')"
   ]
  },
  {
   "cell_type": "code",
   "execution_count": null,
   "metadata": {
    "id": "ZJtCUeBs16Jp"
   },
   "outputs": [],
   "source": [
    "from sklearn import linear_model"
   ]
  },
  {
   "cell_type": "code",
   "execution_count": null,
   "metadata": {
    "colab": {
     "base_uri": "https://localhost:8080/"
    },
    "id": "r6LDoKKm0vBH",
    "outputId": "66d63cda-2527-4ab3-dd1a-1e23b41383b5"
   },
   "outputs": [
    {
     "name": "stdout",
     "output_type": "stream",
     "text": [
      "Digits dataset structure=  ['DESCR', 'categories', 'data', 'details', 'feature_names', 'frame', 'target', 'target_names', 'url']\n",
      "Data shape=  (70000, 784)\n",
      "Data conatins pixel representation of each image, \n",
      "        pixel1  pixel2  pixel3  pixel4  ...  pixel781  pixel782  pixel783  pixel784\n",
      "0         0.0     0.0     0.0     0.0  ...       0.0       0.0       0.0       0.0\n",
      "1         0.0     0.0     0.0     0.0  ...       0.0       0.0       0.0       0.0\n",
      "2         0.0     0.0     0.0     0.0  ...       0.0       0.0       0.0       0.0\n",
      "3         0.0     0.0     0.0     0.0  ...       0.0       0.0       0.0       0.0\n",
      "4         0.0     0.0     0.0     0.0  ...       0.0       0.0       0.0       0.0\n",
      "...       ...     ...     ...     ...  ...       ...       ...       ...       ...\n",
      "69995     0.0     0.0     0.0     0.0  ...       0.0       0.0       0.0       0.0\n",
      "69996     0.0     0.0     0.0     0.0  ...       0.0       0.0       0.0       0.0\n",
      "69997     0.0     0.0     0.0     0.0  ...       0.0       0.0       0.0       0.0\n",
      "69998     0.0     0.0     0.0     0.0  ...       0.0       0.0       0.0       0.0\n",
      "69999     0.0     0.0     0.0     0.0  ...       0.0       0.0       0.0       0.0\n",
      "\n",
      "[70000 rows x 784 columns]\n"
     ]
    }
   ],
   "source": [
    "digits_df = mnist\n",
    "print('Digits dataset structure= ', dir(digits_df))\n",
    "print('Data shape= ', digits_df.data.shape)\n",
    "print('Data conatins pixel representation of each image, \\n', digits_df.data)"
   ]
  },
  {
   "cell_type": "code",
   "execution_count": null,
   "metadata": {
    "id": "C_qgIJih1O6r"
   },
   "outputs": [],
   "source": [
    "X = digits_df.data\n",
    "y = digits_df.target"
   ]
  },
  {
   "cell_type": "code",
   "execution_count": null,
   "metadata": {
    "colab": {
     "base_uri": "https://localhost:8080/"
    },
    "id": "W7-YeZ_i1mdr",
    "outputId": "57b2f082-3ce1-41a5-e60c-74474e796e13"
   },
   "outputs": [
    {
     "name": "stdout",
     "output_type": "stream",
     "text": [
      "X_train dimension=  (56000, 784)\n",
      "X_test dimension=  (14000, 784)\n",
      "y_train dimension=  (56000,)\n",
      "y_train dimension=  (14000,)\n"
     ]
    }
   ],
   "source": [
    "X_train, X_test, y_train, y_test = model_selection.train_test_split(X, y, test_size= 0.2, random_state = 1)\n",
    "\n",
    "print('X_train dimension= ', X_train.shape)\n",
    "print('X_test dimension= ', X_test.shape)\n",
    "print('y_train dimension= ', y_train.shape)\n",
    "print('y_train dimension= ', y_test.shape)"
   ]
  },
  {
   "cell_type": "code",
   "execution_count": null,
   "metadata": {
    "colab": {
     "base_uri": "https://localhost:8080/"
    },
    "id": "PhGuFNFE1sLi",
    "outputId": "b1dd4ff2-3f79-4152-905a-9f920be549bc"
   },
   "outputs": [
    {
     "name": "stderr",
     "output_type": "stream",
     "text": [
      "/usr/local/lib/python3.7/dist-packages/sklearn/svm/_base.py:1208: ConvergenceWarning: Liblinear failed to converge, increase the number of iterations.\n",
      "  ConvergenceWarning,\n"
     ]
    },
    {
     "data": {
      "text/plain": [
       "LogisticRegression(multi_class='ovr', solver='liblinear')"
      ]
     },
     "execution_count": 7,
     "metadata": {},
     "output_type": "execute_result"
    }
   ],
   "source": [
    "lm = linear_model.LogisticRegression(multi_class='ovr', solver='liblinear')\n",
    "lm.fit(X_train, y_train)"
   ]
  },
  {
   "cell_type": "code",
   "execution_count": null,
   "metadata": {
    "colab": {
     "base_uri": "https://localhost:8080/"
    },
    "id": "rdl4qJhxQQpI",
    "outputId": "706031ff-13ab-42fe-e73d-2a63d81e07fd"
   },
   "outputs": [
    {
     "data": {
      "text/plain": [
       "0.9105714285714286"
      ]
     },
     "execution_count": 11,
     "metadata": {},
     "output_type": "execute_result"
    }
   ],
   "source": [
    "lm.score(X_test, y_test)"
   ]
  },
  {
   "cell_type": "code",
   "execution_count": null,
   "metadata": {
    "colab": {
     "base_uri": "https://localhost:8080/",
     "height": 632
    },
    "id": "RgpVXF41QUGa",
    "outputId": "593478c7-057a-4c6b-cfb8-623f063b090f"
   },
   "outputs": [
    {
     "name": "stderr",
     "output_type": "stream",
     "text": [
      "/usr/local/lib/python3.7/dist-packages/sklearn/utils/deprecation.py:87: FutureWarning: Function plot_confusion_matrix is deprecated; Function `plot_confusion_matrix` is deprecated in 1.0 and will be removed in 1.2. Use one of the class methods: ConfusionMatrixDisplay.from_predictions or ConfusionMatrixDisplay.from_estimator.\n",
      "  warnings.warn(msg, category=FutureWarning)\n"
     ]
    },
    {
     "data": {
      "text/plain": [
       "array([[1332,    0,    2,    4,    5,   11,   13,    3,    8,    2],\n",
       "       [   2, 1574,   15,    7,    0,    8,    3,    2,   17,    4],\n",
       "       [   9,   13, 1277,   30,   13,    8,   13,   18,   48,    4],\n",
       "       [   7,    3,   41, 1261,    3,   34,    2,   22,   34,   24],\n",
       "       [   2,    7,   15,    5, 1209,    3,    5,    7,   24,   51],\n",
       "       [   8,    5,    8,   49,   19, 1115,   28,    8,   43,   14],\n",
       "       [  11,    1,    7,    3,   11,   27, 1258,    0,   13,    0],\n",
       "       [   8,    9,   13,    4,   20,    1,    1, 1335,    8,   45],\n",
       "       [  15,   26,   13,   30,   14,   32,   11,    8, 1175,   27],\n",
       "       [  10,    8,    7,   23,   47,    9,    0,   41,   16, 1212]])"
      ]
     },
     "execution_count": 12,
     "metadata": {},
     "output_type": "execute_result"
    },
    {
     "data": {
      "image/png": "[encoded data removed]",
      "text/plain": [
       "<Figure size 720x432 with 2 Axes>"
      ]
     },
     "metadata": {
      "needs_background": "light"
     },
     "output_type": "display_data"
    }
   ],
   "source": [
    "#Creating matplotlib axes object to assign figuresize and figure title\n",
    "fig, ax = plt.subplots(figsize=(10, 6))\n",
    "ax.set_title('Confusion Matrx')\n",
    "\n",
    "disp =metrics.plot_confusion_matrix(lm, X_test, y_test, display_labels= digits_df.target_names, ax = ax)\n",
    "disp.confusion_matrix"
   ]
  },
  {
   "cell_type": "code",
   "execution_count": null,
   "metadata": {
    "colab": {
     "base_uri": "https://localhost:8080/"
    },
    "id": "IhvsG1fXQY6G",
    "outputId": "bd5d843d-8b80-468a-ed5d-76d76b387dc1"
   },
   "outputs": [
    {
     "name": "stdout",
     "output_type": "stream",
     "text": [
      "              precision    recall  f1-score   support\n",
      "\n",
      "           0       0.95      0.97      0.96      1380\n",
      "           1       0.96      0.96      0.96      1632\n",
      "           2       0.91      0.89      0.90      1433\n",
      "           3       0.89      0.88      0.89      1431\n",
      "           4       0.90      0.91      0.91      1328\n",
      "           5       0.89      0.86      0.88      1297\n",
      "           6       0.94      0.95      0.94      1331\n",
      "           7       0.92      0.92      0.92      1444\n",
      "           8       0.85      0.87      0.86      1351\n",
      "           9       0.88      0.88      0.88      1373\n",
      "\n",
      "    accuracy                           0.91     14000\n",
      "   macro avg       0.91      0.91      0.91     14000\n",
      "weighted avg       0.91      0.91      0.91     14000\n",
      "\n"
     ]
    }
   ],
   "source": [
    "print(metrics.classification_report(y_test, lm.predict(X_test)))"
   ]
  },
  {
   "cell_type": "markdown",
   "metadata": {
    "id": "ZbmYsk3mRFn-"
   },
   "source": [
    "3. Classify the dataset using logistic regression after applying the feature reduction using \n",
    "SVD. "
   ]
  },
  {
   "cell_type": "code",
   "execution_count": null,
   "metadata": {
    "id": "yM0BaAVgRNbP"
   },
   "outputs": [],
   "source": [
    "import matplotlib.pyplot as plt\n",
    "import numpy as np\n",
    "import pandas as pd\n",
    "from sklearn.decomposition import TruncatedSVD\n",
    "from sklearn import model_selection\n",
    "from sklearn import linear_model\n",
    "from sklearn import metrics\n",
    "from sklearn.datasets import fetch_openml\n",
    "mnist = fetch_openml('mnist_784')"
   ]
  },
  {
   "cell_type": "code",
   "execution_count": 16,
   "metadata": {
    "id": "XLooq_xpTP-F"
   },
   "outputs": [],
   "source": [
    "digits_df = mnist\n",
    "X = digits_df.data\n",
    "y = digits_df.target"
   ]
  },
  {
   "cell_type": "code",
   "execution_count": 17,
   "metadata": {
    "colab": {
     "base_uri": "https://localhost:8080/",
     "height": 274
    },
    "id": "hwFUrEfRRb0X",
    "outputId": "d9c2ff88-a60d-4880-bad0-d38647ca2ad8"
   },
   "outputs": [
    {
     "data": {
      "image/png": "[encoded data removed]",
      "text/plain": [
       "<Figure size 288x288 with 1 Axes>"
      ]
     },
     "metadata": {
      "needs_background": "light"
     },
     "output_type": "display_data"
    }
   ],
   "source": [
    "svd = TruncatedSVD(n_components=10)\n",
    "X_svd = svd.fit_transform(X)\n",
    "\n",
    "image = svd.inverse_transform(X_svd[0].reshape(1, -1))\n",
    "plt.matshow(image.reshape((28, 28)), cmap = \"gray\")\n",
    "plt.show()\n",
    "\n",
    "\n",
    "\n"
   ]
  },
  {
   "cell_type": "code",
   "execution_count": 18,
   "metadata": {
    "colab": {
     "base_uri": "https://localhost:8080/"
    },
    "id": "t2iqcRj6ViM7",
    "outputId": "9ac2f8fa-0cd4-4f25-b673-37f886b73dbf"
   },
   "outputs": [
    {
     "name": "stdout",
     "output_type": "stream",
     "text": [
      "X_train dimension=  (56000, 10)\n",
      "X_test dimension=  (14000, 10)\n",
      "y_train dimension=  (56000,)\n",
      "y_train dimension=  (14000,)\n"
     ]
    }
   ],
   "source": [
    "X1_train, X1_test, y1_train, y1_test = model_selection.train_test_split(X_svd, y, test_size= 0.2, random_state = 1)\n",
    "print('X_train dimension= ', X1_train.shape)\n",
    "print('X_test dimension= ', X1_test.shape)\n",
    "print('y_train dimension= ', y1_train.shape)\n",
    "print('y_train dimension= ', y1_test.shape)"
   ]
  },
  {
   "cell_type": "code",
   "execution_count": 19,
   "metadata": {
    "colab": {
     "base_uri": "https://localhost:8080/"
    },
    "id": "BZp8cI_RVyV6",
    "outputId": "d354eb5d-064c-45f7-bc6e-c4700bc4ed58"
   },
   "outputs": [
    {
     "data": {
      "text/plain": [
       "LogisticRegression(multi_class='ovr', solver='liblinear')"
      ]
     },
     "execution_count": 19,
     "metadata": {},
     "output_type": "execute_result"
    }
   ],
   "source": [
    "lm = linear_model.LogisticRegression(multi_class='ovr', solver='liblinear')\n",
    "lm.fit(X1_train, y1_train)"
   ]
  },
  {
   "cell_type": "code",
   "execution_count": 20,
   "metadata": {
    "colab": {
     "base_uri": "https://localhost:8080/"
    },
    "id": "U4vhjQ-UWRUA",
    "outputId": "176986c4-642b-4a0c-eaab-b1418a77e6ab"
   },
   "outputs": [
    {
     "data": {
      "text/plain": [
       "0.776"
      ]
     },
     "execution_count": 20,
     "metadata": {},
     "output_type": "execute_result"
    }
   ],
   "source": [
    "lm.score(X1_test, y1_test)"
   ]
  },
  {
   "cell_type": "code",
   "execution_count": 21,
   "metadata": {
    "colab": {
     "base_uri": "https://localhost:8080/",
     "height": 645
    },
    "id": "lmuczzNuWX1S",
    "outputId": "1942c4f1-4adb-4498-c39f-27e07f5f2550"
   },
   "outputs": [
    {
     "name": "stderr",
     "output_type": "stream",
     "text": [
      "/usr/local/lib/python3.7/dist-packages/sklearn/utils/deprecation.py:87: FutureWarning: Function plot_confusion_matrix is deprecated; Function `plot_confusion_matrix` is deprecated in 1.0 and will be removed in 1.2. Use one of the class methods: ConfusionMatrixDisplay.from_predictions or ConfusionMatrixDisplay.from_estimator.\n",
      "  warnings.warn(msg, category=FutureWarning)\n"
     ]
    },
    {
     "data": {
      "text/plain": [
       "array([[1233,    0,   11,   34,    8,   42,   33,   11,    8,    0],\n",
       "       [   0, 1559,   18,    9,    3,   14,    2,    2,   20,    5],\n",
       "       [  40,   15, 1101,   48,   52,    1,   90,   29,   51,    6],\n",
       "       [  12,   30,   42, 1093,    5,   89,   15,   33,   92,   20],\n",
       "       [  11,   10,   14,    5, 1026,    9,   42,   19,   16,  176],\n",
       "       [  55,   29,   15,  157,   76,  697,   44,   44,  107,   73],\n",
       "       [  19,   29,   66,    7,    9,   30, 1156,    5,   10,    0],\n",
       "       [  23,   36,   20,    2,   26,    8,    0, 1256,   20,   53],\n",
       "       [   9,   64,   38,  112,   18,   63,    7,    4,  981,   55],\n",
       "       [  18,   23,   31,   30,  285,   30,    4,  130,   60,  762]])"
      ]
     },
     "execution_count": 21,
     "metadata": {},
     "output_type": "execute_result"
    },
    {
     "data": {
      "image/png": "[encoded data removed]",
      "text/plain": [
       "<Figure size 720x432 with 2 Axes>"
      ]
     },
     "metadata": {
      "needs_background": "light"
     },
     "output_type": "display_data"
    }
   ],
   "source": [
    "fig, ax = plt.subplots(figsize=(10, 6))\n",
    "ax.set_title('Confusion Matrx')\n",
    "\n",
    "disp =metrics.plot_confusion_matrix(lm, X1_test, y1_test, display_labels= digits_df.target_names, ax = ax)\n",
    "disp.confusion_matrix"
   ]
  },
  {
   "cell_type": "code",
   "execution_count": 22,
   "metadata": {
    "colab": {
     "base_uri": "https://localhost:8080/"
    },
    "id": "bOJISb_NWlhn",
    "outputId": "a2083a62-a520-4067-c463-28b5c3a9f05b"
   },
   "outputs": [
    {
     "name": "stdout",
     "output_type": "stream",
     "text": [
      "              precision    recall  f1-score   support\n",
      "\n",
      "           0       0.87      0.89      0.88      1380\n",
      "           1       0.87      0.96      0.91      1632\n",
      "           2       0.81      0.77      0.79      1433\n",
      "           3       0.73      0.76      0.75      1431\n",
      "           4       0.68      0.77      0.72      1328\n",
      "           5       0.71      0.54      0.61      1297\n",
      "           6       0.83      0.87      0.85      1331\n",
      "           7       0.82      0.87      0.84      1444\n",
      "           8       0.72      0.73      0.72      1351\n",
      "           9       0.66      0.55      0.60      1373\n",
      "\n",
      "    accuracy                           0.78     14000\n",
      "   macro avg       0.77      0.77      0.77     14000\n",
      "weighted avg       0.77      0.78      0.77     14000\n",
      "\n"
     ]
    }
   ],
   "source": [
    "print(metrics.classification_report(y1_test, lm.predict(X1_test)))"
   ]
  },
  {
   "cell_type": "markdown",
   "metadata": {
    "id": "wsmi_bQ_XUBY"
   },
   "source": [
    "4. Find the optimal feature dimension based on the accuracy."
   ]
  },
  {
   "cell_type": "code",
   "execution_count": 2,
   "metadata": {
    "id": "hRIew__uXdSM"
   },
   "outputs": [],
   "source": [
    "from numpy import mean\n",
    "from numpy import std\n",
    "from sklearn.model_selection import cross_val_score\n",
    "from sklearn.model_selection import RepeatedStratifiedKFold\n",
    "from sklearn.pipeline import Pipeline\n",
    "from sklearn.decomposition import TruncatedSVD\n",
    "from sklearn.linear_model import LogisticRegression\n",
    "from matplotlib import pyplot\n",
    "from sklearn.datasets import fetch_openml\n",
    "mnist = fetch_openml('mnist_784')"
   ]
  },
  {
   "cell_type": "code",
   "execution_count": 3,
   "metadata": {
    "id": "9ISO2Fkla8cq"
   },
   "outputs": [],
   "source": [
    "digits_df = mnist\n",
    "X2 = digits_df.data\n",
    "y2 = digits_df.target"
   ]
  },
  {
   "cell_type": "code",
   "execution_count": 4,
   "metadata": {
    "colab": {
     "base_uri": "https://localhost:8080/",
     "height": 1000
    },
    "id": "M9Kp_PLLa_7A",
    "outputId": "881951fe-ec06-4192-c613-2949891e9c1f"
   },
   "outputs": [
    {
     "name": "stdout",
     "output_type": "stream",
     "text": [
      ">1 0.199 (0.004)\n",
      ">2 0.339 (0.006)\n",
      ">3 0.471 (0.005)\n",
      ">4 0.511 (0.005)\n",
      ">5 0.642 (0.005)\n",
      ">6 0.720 (0.005)\n",
      ">7 0.748 (0.005)\n",
      ">8 0.769 (0.005)\n",
      ">9 0.784 (0.005)\n"
     ]
    },
    {
     "name": "stderr",
     "output_type": "stream",
     "text": [
      "/usr/local/lib/python3.7/dist-packages/joblib/externals/loky/process_executor.py:705: UserWarning: A worker stopped while some jobs were given to the executor. This can be caused by a too short worker timeout or by a memory leak.\n",
      "  \"timeout or by a memory leak.\", UserWarning\n"
     ]
    },
    {
     "name": "stdout",
     "output_type": "stream",
     "text": [
      ">10 0.796 (0.005)\n",
      ">11 0.803 (0.005)\n",
      ">12 0.822 (0.005)\n",
      ">13 0.828 (0.005)\n"
     ]
    },
    {
     "name": "stderr",
     "output_type": "stream",
     "text": [
      "/usr/local/lib/python3.7/dist-packages/joblib/externals/loky/process_executor.py:705: UserWarning: A worker stopped while some jobs were given to the executor. This can be caused by a too short worker timeout or by a memory leak.\n",
      "  \"timeout or by a memory leak.\", UserWarning\n"
     ]
    },
    {
     "name": "stdout",
     "output_type": "stream",
     "text": [
      ">14 0.834 (0.005)\n",
      ">15 0.837 (0.005)\n",
      ">16 0.851 (0.004)\n"
     ]
    },
    {
     "name": "stderr",
     "output_type": "stream",
     "text": [
      "/usr/local/lib/python3.7/dist-packages/joblib/externals/loky/process_executor.py:705: UserWarning: A worker stopped while some jobs were given to the executor. This can be caused by a too short worker timeout or by a memory leak.\n",
      "  \"timeout or by a memory leak.\", UserWarning\n"
     ]
    },
    {
     "name": "stdout",
     "output_type": "stream",
     "text": [
      ">17 0.858 (0.004)\n",
      ">18 0.862 (0.004)\n",
      ">19 0.868 (0.004)\n",
      ">20 0.872 (0.004)\n",
      ">21 0.874 (0.004)\n",
      ">22 0.877 (0.004)\n",
      ">23 0.881 (0.004)\n",
      ">24 0.882 (0.004)\n",
      ">25 0.883 (0.004)\n",
      ">26 0.885 (0.004)\n",
      ">27 0.885 (0.004)\n",
      ">28 0.886 (0.004)\n",
      ">29 0.887 (0.004)\n",
      ">30 0.889 (0.004)\n",
      ">31 0.890 (0.004)\n",
      ">32 0.893 (0.004)\n",
      ">33 0.894 (0.004)\n",
      ">34 0.896 (0.004)\n",
      ">35 0.897 (0.004)\n",
      ">36 0.897 (0.004)\n",
      ">37 0.898 (0.003)\n",
      ">38 0.899 (0.004)\n",
      ">39 0.899 (0.004)\n",
      ">40 0.900 (0.004)\n"
     ]
    },
    {
     "name": "stderr",
     "output_type": "stream",
     "text": [
      "/usr/local/lib/python3.7/dist-packages/joblib/externals/loky/process_executor.py:705: UserWarning: A worker stopped while some jobs were given to the executor. This can be caused by a too short worker timeout or by a memory leak.\n",
      "  \"timeout or by a memory leak.\", UserWarning\n"
     ]
    },
    {
     "name": "stdout",
     "output_type": "stream",
     "text": [
      ">41 0.901 (0.004)\n",
      ">42 0.902 (0.004)\n",
      ">43 0.903 (0.004)\n",
      ">44 0.903 (0.004)\n",
      ">45 0.904 (0.004)\n",
      ">46 0.904 (0.004)\n",
      ">47 0.905 (0.004)\n",
      ">48 0.905 (0.004)\n",
      ">49 0.905 (0.004)\n"
     ]
    },
    {
     "data": {
      "image/png": "[encoded data removed]",
      "text/plain": [
       "<Figure size 432x288 with 1 Axes>"
      ]
     },
     "metadata": {
      "needs_background": "light"
     },
     "output_type": "display_data"
    }
   ],
   "source": [
    "def get_models():\n",
    "\tmodels = dict()\n",
    "\tfor i in range(1,50):\n",
    "\t\tsteps = [('svd', TruncatedSVD(n_components=i)), ('m', LogisticRegression())]\n",
    "\t\tmodels[str(i)] = Pipeline(steps=steps)\n",
    "\treturn models\n",
    "def evaluate_model(model, X2, y2):\n",
    "\tcv = RepeatedStratifiedKFold(n_splits=10, n_repeats=3, random_state=1)\n",
    "\tscores = cross_val_score(model, X2, y2, scoring='accuracy', cv=cv, n_jobs=-1, error_score='raise')\n",
    "\treturn scores\n",
    " \n",
    "\n",
    "# get the models to evaluate\n",
    "models = get_models()\n",
    "# evaluate the models and store results\n",
    "results, names = list(), list()\n",
    "for name, model in models.items():\n",
    "\tscores = evaluate_model(model, X2, y2)\n",
    "\tresults.append(scores)\n",
    "\tnames.append(name)\n",
    "\tprint('>%s %.3f (%.3f)' % (name, mean(scores), std(scores)))\n",
    "# plot model performance for comparison\n",
    "pyplot.boxplot(results, labels=names, showmeans=True)\n",
    "pyplot.xticks(rotation=45)\n",
    "pyplot.show()"
   ]
  },
  {
   "cell_type": "markdown",
   "metadata": {
    "id": "OJKYQE5dwwQD"
   },
   "source": [
    "5. For the optimal feature dimension, evaluate the model before and after applying the \n",
    "feature dimension based on Precision, Recall and F1-Score for each class."
   ]
  },
  {
   "cell_type": "code",
   "execution_count": 5,
   "metadata": {
    "id": "2gZJTx-Yw2DE"
   },
   "outputs": [],
   "source": [
    "import matplotlib.pyplot as plt\n",
    "import numpy as np\n",
    "import pandas as pd\n",
    "from sklearn.decomposition import TruncatedSVD\n",
    "from sklearn import model_selection\n",
    "from sklearn import linear_model\n",
    "from sklearn import metrics\n",
    "from sklearn.datasets import fetch_openml\n",
    "mnist = fetch_openml('mnist_784')"
   ]
  },
  {
   "cell_type": "code",
   "execution_count": 6,
   "metadata": {
    "id": "AesjJpSGxJsN"
   },
   "outputs": [],
   "source": [
    "digits_df = mnist\n",
    "X = digits_df.data\n",
    "y = digits_df.target"
   ]
  },
  {
   "cell_type": "code",
   "execution_count": 7,
   "metadata": {
    "id": "oJ5RfWcmxZkd"
   },
   "outputs": [],
   "source": [
    "svd = TruncatedSVD(n_components=21) # applying svd for optimal feature dimension\n",
    "X_svd = svd.fit_transform(X)"
   ]
  },
  {
   "cell_type": "code",
   "execution_count": 8,
   "metadata": {
    "colab": {
     "base_uri": "https://localhost:8080/"
    },
    "id": "6z2nfUCqxarF",
    "outputId": "e2ed7c19-b960-482c-9dec-0b6b40548260"
   },
   "outputs": [
    {
     "name": "stdout",
     "output_type": "stream",
     "text": [
      "X_train dimension=  (56000, 21)\n",
      "X_test dimension=  (14000, 21)\n",
      "y_train dimension=  (56000,)\n",
      "y_train dimension=  (14000,)\n"
     ]
    }
   ],
   "source": [
    "X2_train, X2_test, y2_train, y2_test = model_selection.train_test_split(X_svd, y, test_size= 0.2, random_state = 1)\n",
    "print('X_train dimension= ', X2_train.shape)\n",
    "print('X_test dimension= ', X2_test.shape)\n",
    "print('y_train dimension= ', y2_train.shape)\n",
    "print('y_train dimension= ', y2_test.shape)"
   ]
  },
  {
   "cell_type": "code",
   "execution_count": 9,
   "metadata": {
    "colab": {
     "base_uri": "https://localhost:8080/"
    },
    "id": "8Psy8HqAxoQd",
    "outputId": "84d70b58-f569-4dfe-8c9f-7fb2fa629963"
   },
   "outputs": [
    {
     "data": {
      "text/plain": [
       "LogisticRegression(multi_class='ovr', solver='liblinear')"
      ]
     },
     "execution_count": 9,
     "metadata": {},
     "output_type": "execute_result"
    }
   ],
   "source": [
    "lm = linear_model.LogisticRegression(multi_class='ovr', solver='liblinear')\n",
    "lm.fit(X2_train, y2_train)"
   ]
  },
  {
   "cell_type": "code",
   "execution_count": 11,
   "metadata": {
    "colab": {
     "base_uri": "https://localhost:8080/"
    },
    "id": "GROMjU-lxxZN",
    "outputId": "dc923bc9-2982-4542-a978-248f14e3deba"
   },
   "outputs": [
    {
     "data": {
      "text/plain": [
       "0.8544285714285714"
      ]
     },
     "execution_count": 11,
     "metadata": {},
     "output_type": "execute_result"
    }
   ],
   "source": [
    "lm.score(X2_test, y2_test)"
   ]
  },
  {
   "cell_type": "code",
   "execution_count": 12,
   "metadata": {
    "colab": {
     "base_uri": "https://localhost:8080/",
     "height": 645
    },
    "id": "_94X7NMTx3F-",
    "outputId": "0fc03558-733b-49da-ea97-7d26cfc019a2"
   },
   "outputs": [
    {
     "name": "stderr",
     "output_type": "stream",
     "text": [
      "/usr/local/lib/python3.7/dist-packages/sklearn/utils/deprecation.py:87: FutureWarning: Function plot_confusion_matrix is deprecated; Function `plot_confusion_matrix` is deprecated in 1.0 and will be removed in 1.2. Use one of the class methods: ConfusionMatrixDisplay.from_predictions or ConfusionMatrixDisplay.from_estimator.\n",
      "  warnings.warn(msg, category=FutureWarning)\n"
     ]
    },
    {
     "data": {
      "text/plain": [
       "array([[1307,    0,    8,    7,    7,   11,   15,    0,   23,    2],\n",
       "       [   1, 1568,   12,    5,    0,   14,    2,    1,   27,    2],\n",
       "       [  25,   11, 1164,   29,   40,    7,   44,   31,   56,   26],\n",
       "       [  14,   11,   40, 1169,    3,   79,   12,   31,   42,   30],\n",
       "       [   4,   10,   12,    1, 1151,   20,   13,    8,   27,   82],\n",
       "       [  35,   20,   13,   86,   48,  934,   50,   22,   59,   30],\n",
       "       [  15,    2,   24,    1,   13,   23, 1235,    2,   15,    1],\n",
       "       [  22,   14,   28,    1,   22,    7,    3, 1300,    5,   42],\n",
       "       [  13,   49,   29,   70,   12,   63,   10,    3, 1058,   44],\n",
       "       [  11,   22,   19,   35,   81,   34,    2,   72,   21, 1076]])"
      ]
     },
     "execution_count": 12,
     "metadata": {},
     "output_type": "execute_result"
    },
    {
     "data": {
      "image/png": "[encoded data removed]",
      "text/plain": [
       "<Figure size 720x432 with 2 Axes>"
      ]
     },
     "metadata": {
      "needs_background": "light"
     },
     "output_type": "display_data"
    }
   ],
   "source": [
    "fig, ax = plt.subplots(figsize=(10, 6))\n",
    "ax.set_title('Confusion Matrx')\n",
    "\n",
    "disp =metrics.plot_confusion_matrix(lm, X2_test, y2_test, display_labels= digits_df.target_names, ax = ax)\n",
    "disp.confusion_matrix"
   ]
  },
  {
   "cell_type": "code",
   "execution_count": 13,
   "metadata": {
    "colab": {
     "base_uri": "https://localhost:8080/"
    },
    "id": "8j-czPXkx8k_",
    "outputId": "e1c9933b-6694-4981-99d1-ded0e019a4c0"
   },
   "outputs": [
    {
     "name": "stdout",
     "output_type": "stream",
     "text": [
      "For the optimal feature dimension\n",
      "              precision    recall  f1-score   support\n",
      "\n",
      "           0       0.90      0.95      0.92      1380\n",
      "           1       0.92      0.96      0.94      1632\n",
      "           2       0.86      0.81      0.84      1433\n",
      "           3       0.83      0.82      0.82      1431\n",
      "           4       0.84      0.87      0.85      1328\n",
      "           5       0.78      0.72      0.75      1297\n",
      "           6       0.89      0.93      0.91      1331\n",
      "           7       0.88      0.90      0.89      1444\n",
      "           8       0.79      0.78      0.79      1351\n",
      "           9       0.81      0.78      0.79      1373\n",
      "\n",
      "    accuracy                           0.85     14000\n",
      "   macro avg       0.85      0.85      0.85     14000\n",
      "weighted avg       0.85      0.85      0.85     14000\n",
      "\n"
     ]
    }
   ],
   "source": [
    "print(\"For the optimal feature dimension\")\n",
    "print(metrics.classification_report(y2_test, lm.predict(X2_test)))"
   ]
  }
 ],
 "metadata": {
  "colab": {
   "collapsed_sections": [],
   "name": "morning.ipynb",
   "provenance": []
  },
  "kernelspec": {
   "display_name": "Python 3",
   "language": "python",
   "name": "python3"
  },
  "language_info": {
   "codemirror_mode": {
    "name": "ipython",
    "version": 3
   },
   "file_extension": ".py",
   "mimetype": "text/x-python",
   "name": "python",
   "nbconvert_exporter": "python",
   "pygments_lexer": "ipython3",
   "version": "3.8.8"
  }
 },
 "nbformat": 4,
 "nbformat_minor": 1
}
