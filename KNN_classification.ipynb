{
 "cells": [
  {
   "cell_type": "code",
   "execution_count": null,
   "metadata": {},
   "outputs": [],
   "source": [
    "# https://machinelearningmastery.com/tutorial-to-implement-k-nearest-neighbors-in-python-from-scratch/"
   ]
  },
  {
   "cell_type": "code",
   "execution_count": 7,
   "metadata": {},
   "outputs": [
    {
     "name": "stdout",
     "output_type": "stream",
     "text": [
      "[[2.7810836, 2.550537003, 0], [1.465489372, 2.362125076, 0], [3.396561688, 4.400293529, 0], [1.38807019, 1.850220317, 0], [3.06407232, 3.005305973, 0], [7.627531214, 2.759262235, 1], [5.332441248, 2.088626775, 1], [6.922596716, 1.77106367, 1], [8.675418651, -0.242068655, 1], [7.673756466, 3.508563011, 1]]\n",
      "(10, 3)\n"
     ]
    }
   ],
   "source": [
    "import numpy as np\n",
    "\n",
    "# Test distance function\n",
    "dataset = [[2.7810836,2.550537003,0],\n",
    "[1.465489372,2.362125076,0],\n",
    "[3.396561688,4.400293529,0],\n",
    "[1.38807019,1.850220317,0],\n",
    "[3.06407232,3.005305973,0],\n",
    "[7.627531214,2.759262235,1],\n",
    "[5.332441248,2.088626775,1],\n",
    "[6.922596716,1.77106367,1],\n",
    "[8.675418651,-0.242068655,1],\n",
    "[7.673756466,3.508563011,1]]\n",
    "\n",
    "print(dataset)\n",
    "print(np.shape(dataset))"
   ]
  },
  {
   "cell_type": "code",
   "execution_count": 10,
   "metadata": {},
   "outputs": [
    {
     "name": "stdout",
     "output_type": "stream",
     "text": [
      "[2.7810836, 2.550537003, 0]\n",
      "3\n"
     ]
    }
   ],
   "source": [
    "row0 = dataset[0]\n",
    "print(row0)\n",
    "print(len(row0))"
   ]
  },
  {
   "cell_type": "code",
   "execution_count": 18,
   "metadata": {},
   "outputs": [
    {
     "name": "stdout",
     "output_type": "stream",
     "text": [
      "4.985585382449795\n"
     ]
    }
   ],
   "source": [
    "# Example of calculating Euclidean distance\n",
    "from math import sqrt\n",
    "\n",
    "# calculate the Euclidean distance between two vectors\n",
    "def euclidean_distance(row1, row2):\n",
    "    distance = 0.0\n",
    "    for i in range(len(row1)-1):\n",
    "       distance += (row1[i] - row2[i])**2\n",
    "    return sqrt(distance)\n",
    "\n",
    "for row in dataset:\n",
    "  distance = euclidean_distance(row0, row)\n",
    "print(distance)"
   ]
  },
  {
   "cell_type": "code",
   "execution_count": 45,
   "metadata": {},
   "outputs": [],
   "source": [
    "# Locate the most similar neighbors\n",
    "def get_neighbors(train, test_row, num_neighbors):\n",
    "   distances = list()\n",
    "   for train_row in train:\n",
    "     dist = euclidean_distance(test_row, train_row)\n",
    "     distances.append((train_row, dist))\n",
    "   \n",
    "   print(distances)\n",
    "   distances.sort(key=lambda tup: tup[1])\n",
    "   print(distances)\n",
    "\n",
    "   neighbors = list()\n",
    "   for i in range(num_neighbors):\n",
    "       neighbors.append(distances[i][0])\n",
    "   return neighbors"
   ]
  },
  {
   "cell_type": "code",
   "execution_count": 46,
   "metadata": {},
   "outputs": [
    {
     "name": "stdout",
     "output_type": "stream",
     "text": [
      "[([2.7810836, 2.550537003, 0], 0.0), ([1.465489372, 2.362125076, 0], 1.3290173915275787), ([3.396561688, 4.400293529, 0], 1.9494646655653247), ([1.38807019, 1.850220317, 0], 1.5591439385540549), ([3.06407232, 3.005305973, 0], 0.5356280721938492), ([7.627531214, 2.759262235, 1], 4.850940186986411), ([5.332441248, 2.088626775, 1], 2.592833759950511), ([6.922596716, 1.77106367, 1], 4.214227042632867), ([8.675418651, -0.242068655, 1], 6.522409988228337), ([7.673756466, 3.508563011, 1], 4.985585382449795)]\n",
      "[([2.7810836, 2.550537003, 0], 0.0), ([3.06407232, 3.005305973, 0], 0.5356280721938492), ([1.465489372, 2.362125076, 0], 1.3290173915275787), ([1.38807019, 1.850220317, 0], 1.5591439385540549), ([3.396561688, 4.400293529, 0], 1.9494646655653247), ([5.332441248, 2.088626775, 1], 2.592833759950511), ([6.922596716, 1.77106367, 1], 4.214227042632867), ([7.627531214, 2.759262235, 1], 4.850940186986411), ([7.673756466, 3.508563011, 1], 4.985585382449795), ([8.675418651, -0.242068655, 1], 6.522409988228337)]\n",
      "[[2.7810836, 2.550537003, 0], [3.06407232, 3.005305973, 0], [1.465489372, 2.362125076, 0]]\n"
     ]
    }
   ],
   "source": [
    "neighbors = get_neighbors(dataset, dataset[0], 3)\n",
    "print(neighbors)"
   ]
  }
 ],
 "metadata": {
  "kernelspec": {
   "display_name": "Python 3",
   "language": "python",
   "name": "python3"
  },
  "language_info": {
   "codemirror_mode": {
    "name": "ipython",
    "version": 3
   },
   "file_extension": ".py",
   "mimetype": "text/x-python",
   "name": "python",
   "nbconvert_exporter": "python",
   "pygments_lexer": "ipython3",
   "version": "3.6.9"
  }
 },
 "nbformat": 4,
 "nbformat_minor": 4
}
